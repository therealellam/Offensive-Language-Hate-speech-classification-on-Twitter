{
  "nbformat": 4,
  "nbformat_minor": 0,
  "metadata": {
    "colab": {
      "name": "offensive language & hate speech3",
      "provenance": [],
      "collapsed_sections": [],
      "include_colab_link": true
    },
    "kernelspec": {
      "name": "python3",
      "display_name": "Python 3"
    },
    "language_info": {
      "name": "python"
    }
  },
  "cells": [
    {
      "cell_type": "markdown",
      "metadata": {
        "id": "view-in-github",
        "colab_type": "text"
      },
      "source": [
        "<a href=\"https://colab.research.google.com/github/therealellam/Offensive-Language-Hate-speech-classification-on-Twitter/blob/main/offensive_language_%26_hate_speech3.ipynb\" target=\"_parent\"><img src=\"https://colab.research.google.com/assets/colab-badge.svg\" alt=\"Open In Colab\"/></a>"
      ]
    },
    {
      "cell_type": "markdown",
      "metadata": {
        "id": "4w080Qzk6QgV"
      },
      "source": [
        "# Loading the dataset"
      ]
    },
    {
      "cell_type": "code",
      "metadata": {
        "id": "88lzbluIjBws",
        "colab": {
          "base_uri": "https://localhost:8080/"
        },
        "outputId": "3995c9f7-77cf-4155-bf83-7d8c25f15e91"
      },
      "source": [
        "# Importing the libraries we will use\n",
        "import numpy as np\n",
        "import pandas as pd\n",
        "import re\n",
        "import matplotlib.pyplot as plt\n",
        "import seaborn as sns\n",
        "import nltk \n",
        "nltk.download('punkt')\n",
        "from nltk.corpus import stopwords\n",
        "nltk.download('stopwords')\n",
        "from nltk.stem import PorterStemmer\n",
        "from nltk.stem import WordNetLemmatizer\n",
        "nltk.download('wordnet')\n",
        "import tensorflow as tf\n",
        "from tensorflow.keras.preprocessing.text import Tokenizer\n",
        "from tensorflow.keras.preprocessing.sequence import pad_sequences\n",
        "from sklearn.model_selection import train_test_split\n",
        "from tensorflow.keras import layers\n",
        "from tensorflow.keras import losses\n",
        "from sklearn.metrics import confusion_matrix\n",
        "from sklearn.metrics import classification_report"
      ],
      "execution_count": null,
      "outputs": [
        {
          "output_type": "stream",
          "name": "stdout",
          "text": [
            "[nltk_data] Downloading package punkt to /root/nltk_data...\n",
            "[nltk_data]   Unzipping tokenizers/punkt.zip.\n",
            "[nltk_data] Downloading package stopwords to /root/nltk_data...\n",
            "[nltk_data]   Unzipping corpora/stopwords.zip.\n",
            "[nltk_data] Downloading package wordnet to /root/nltk_data...\n",
            "[nltk_data]   Unzipping corpora/wordnet.zip.\n"
          ]
        }
      ]
    },
    {
      "cell_type": "code",
      "metadata": {
        "id": "ocdgB6cQFULu"
      },
      "source": [
        "# These are the user defined functions that we will use\n",
        "\n",
        "# This tells us how many row and columns our dataset has\n",
        "#\n",
        "def rows_and_columns(df):\n",
        "  return print(f'The dataset has {df.shape[0]} rows and {df.shape[1]} columns')\n",
        "\n",
        "# A table showing the percentage of missing values per column\n",
        "#\n",
        "def percent_missing_values(df):\n",
        "  # Creating a dataframe showing percentage of missing values\n",
        "  percentage = ((df.isnull().sum() / len(df)) * 100).sort_values(ascending=False).to_frame()\n",
        "\n",
        "  # Renaming the column\n",
        "  percentage.columns = ['Percentage Missing']\n",
        "\n",
        "  # Returning a dataframe with the percentage of missing values\n",
        "  return percentage[percentage['Percentage Missing'] > 0]\n",
        "\n",
        "# Checking and dropping duplicate values\n",
        "#\n",
        "def duplicated_records(df):\n",
        "\n",
        "  # Number of duplicates\n",
        "  duplicates = df.duplicated().sum()\n",
        "\n",
        "  # Checking if there are duplicated values\n",
        "  if df.duplicated().any() == True:\n",
        "\n",
        "  # Dropping duplicates if found \n",
        "    df.drop_duplicates(inplace=True)\n",
        "    return(f'{duplicates} duplicates dropped')\n",
        "  \n",
        "  # Print no duplicates if there are none\n",
        "  else:\n",
        "    return print('No duplicated records')\n",
        "\n",
        "# A function that standardizes text \n",
        "def custom_standardization(string):\n",
        "  # To replace lots of whitespace with one\n",
        "  new_string = re.sub('\\s+', ' ', string)\n",
        "\n",
        "  # To remove mentions\n",
        "  new_string = re.sub('@[\\w]+', '', new_string)\n",
        "\n",
        "  # To remove urls\n",
        "  new_string = re.sub('http[s]?://(?:[a-zA-Z]|[0-9]|[$-_@.&+]|[!*\\(\\),]|(?:%[0-9a-fA-F][0-9a-fA-F]))+', '', new_string)\n",
        "\n",
        "  # To remove hashtags\n",
        "  new_string = re.sub('#[\\w\\-]+', '', new_string)\n",
        "\n",
        "  # To remove punctuation marks\n",
        "  new_string = re.sub('[^\\w\\s]', '', new_string)\n",
        "\n",
        "  # To make the text lower case\n",
        "  new_string = new_string.lower()\n",
        "\n",
        "  return new_string\n",
        "\n",
        "# A function that removes stopwords such the, a, as etc.\n",
        "def remove_stopwords(tweet):\n",
        "  return \" \".join([word for word in tweet.split() if word not in stopwords])"
      ],
      "execution_count": null,
      "outputs": []
    },
    {
      "cell_type": "code",
      "metadata": {
        "id": "-lKfnSvXjF87"
      },
      "source": [
        "url = 'https://raw.githubusercontent.com/t-davidson/hate-speech-and-offensive-language/master/data/labeled_data.csv'\n",
        "# Loading our dataset\n",
        "tweets = pd.read_csv(url)"
      ],
      "execution_count": null,
      "outputs": []
    },
    {
      "cell_type": "markdown",
      "metadata": {
        "id": "sLJaBrTuE7Ff"
      },
      "source": [
        "# Previewing our dataset"
      ]
    },
    {
      "cell_type": "code",
      "metadata": {
        "colab": {
          "base_uri": "https://localhost:8080/"
        },
        "id": "U5AcO7L_FjYD",
        "outputId": "da8209dd-faa8-46a3-caad-c916327e4bc0"
      },
      "source": [
        "# Checking number of records\n",
        "rows_and_columns(tweets)"
      ],
      "execution_count": null,
      "outputs": [
        {
          "output_type": "stream",
          "name": "stdout",
          "text": [
            "The dataset has 24783 rows and 7 columns\n"
          ]
        }
      ]
    },
    {
      "cell_type": "code",
      "metadata": {
        "colab": {
          "base_uri": "https://localhost:8080/",
          "height": 204
        },
        "id": "HP01Y8S_jPvW",
        "outputId": "a778fce3-e78b-49e7-b1ee-b374b9c305cf"
      },
      "source": [
        "# Previewing the top of our dataset\n",
        "tweets.head()"
      ],
      "execution_count": null,
      "outputs": [
        {
          "output_type": "execute_result",
          "data": {
            "text/html": [
              "<div>\n",
              "<style scoped>\n",
              "    .dataframe tbody tr th:only-of-type {\n",
              "        vertical-align: middle;\n",
              "    }\n",
              "\n",
              "    .dataframe tbody tr th {\n",
              "        vertical-align: top;\n",
              "    }\n",
              "\n",
              "    .dataframe thead th {\n",
              "        text-align: right;\n",
              "    }\n",
              "</style>\n",
              "<table border=\"1\" class=\"dataframe\">\n",
              "  <thead>\n",
              "    <tr style=\"text-align: right;\">\n",
              "      <th></th>\n",
              "      <th>Unnamed: 0</th>\n",
              "      <th>count</th>\n",
              "      <th>hate_speech</th>\n",
              "      <th>offensive_language</th>\n",
              "      <th>neither</th>\n",
              "      <th>class</th>\n",
              "      <th>tweet</th>\n",
              "    </tr>\n",
              "  </thead>\n",
              "  <tbody>\n",
              "    <tr>\n",
              "      <th>0</th>\n",
              "      <td>0</td>\n",
              "      <td>3</td>\n",
              "      <td>0</td>\n",
              "      <td>0</td>\n",
              "      <td>3</td>\n",
              "      <td>2</td>\n",
              "      <td>!!! RT @mayasolovely: As a woman you shouldn't...</td>\n",
              "    </tr>\n",
              "    <tr>\n",
              "      <th>1</th>\n",
              "      <td>1</td>\n",
              "      <td>3</td>\n",
              "      <td>0</td>\n",
              "      <td>3</td>\n",
              "      <td>0</td>\n",
              "      <td>1</td>\n",
              "      <td>!!!!! RT @mleew17: boy dats cold...tyga dwn ba...</td>\n",
              "    </tr>\n",
              "    <tr>\n",
              "      <th>2</th>\n",
              "      <td>2</td>\n",
              "      <td>3</td>\n",
              "      <td>0</td>\n",
              "      <td>3</td>\n",
              "      <td>0</td>\n",
              "      <td>1</td>\n",
              "      <td>!!!!!!! RT @UrKindOfBrand Dawg!!!! RT @80sbaby...</td>\n",
              "    </tr>\n",
              "    <tr>\n",
              "      <th>3</th>\n",
              "      <td>3</td>\n",
              "      <td>3</td>\n",
              "      <td>0</td>\n",
              "      <td>2</td>\n",
              "      <td>1</td>\n",
              "      <td>1</td>\n",
              "      <td>!!!!!!!!! RT @C_G_Anderson: @viva_based she lo...</td>\n",
              "    </tr>\n",
              "    <tr>\n",
              "      <th>4</th>\n",
              "      <td>4</td>\n",
              "      <td>6</td>\n",
              "      <td>0</td>\n",
              "      <td>6</td>\n",
              "      <td>0</td>\n",
              "      <td>1</td>\n",
              "      <td>!!!!!!!!!!!!! RT @ShenikaRoberts: The shit you...</td>\n",
              "    </tr>\n",
              "  </tbody>\n",
              "</table>\n",
              "</div>"
            ],
            "text/plain": [
              "   Unnamed: 0  count  ...  class                                              tweet\n",
              "0           0      3  ...      2  !!! RT @mayasolovely: As a woman you shouldn't...\n",
              "1           1      3  ...      1  !!!!! RT @mleew17: boy dats cold...tyga dwn ba...\n",
              "2           2      3  ...      1  !!!!!!! RT @UrKindOfBrand Dawg!!!! RT @80sbaby...\n",
              "3           3      3  ...      1  !!!!!!!!! RT @C_G_Anderson: @viva_based she lo...\n",
              "4           4      6  ...      1  !!!!!!!!!!!!! RT @ShenikaRoberts: The shit you...\n",
              "\n",
              "[5 rows x 7 columns]"
            ]
          },
          "metadata": {},
          "execution_count": 5
        }
      ]
    },
    {
      "cell_type": "code",
      "metadata": {
        "colab": {
          "base_uri": "https://localhost:8080/",
          "height": 204
        },
        "id": "LBk2akxgcDcS",
        "outputId": "a5e2b638-011f-4711-d11c-7b4f8b2514b7"
      },
      "source": [
        "# Previewing the bottom of our dataset\n",
        "tweets.tail()"
      ],
      "execution_count": null,
      "outputs": [
        {
          "output_type": "execute_result",
          "data": {
            "text/html": [
              "<div>\n",
              "<style scoped>\n",
              "    .dataframe tbody tr th:only-of-type {\n",
              "        vertical-align: middle;\n",
              "    }\n",
              "\n",
              "    .dataframe tbody tr th {\n",
              "        vertical-align: top;\n",
              "    }\n",
              "\n",
              "    .dataframe thead th {\n",
              "        text-align: right;\n",
              "    }\n",
              "</style>\n",
              "<table border=\"1\" class=\"dataframe\">\n",
              "  <thead>\n",
              "    <tr style=\"text-align: right;\">\n",
              "      <th></th>\n",
              "      <th>Unnamed: 0</th>\n",
              "      <th>count</th>\n",
              "      <th>hate_speech</th>\n",
              "      <th>offensive_language</th>\n",
              "      <th>neither</th>\n",
              "      <th>class</th>\n",
              "      <th>tweet</th>\n",
              "    </tr>\n",
              "  </thead>\n",
              "  <tbody>\n",
              "    <tr>\n",
              "      <th>24778</th>\n",
              "      <td>25291</td>\n",
              "      <td>3</td>\n",
              "      <td>0</td>\n",
              "      <td>2</td>\n",
              "      <td>1</td>\n",
              "      <td>1</td>\n",
              "      <td>you's a muthaf***in lie &amp;#8220;@LifeAsKing: @2...</td>\n",
              "    </tr>\n",
              "    <tr>\n",
              "      <th>24779</th>\n",
              "      <td>25292</td>\n",
              "      <td>3</td>\n",
              "      <td>0</td>\n",
              "      <td>1</td>\n",
              "      <td>2</td>\n",
              "      <td>2</td>\n",
              "      <td>you've gone and broke the wrong heart baby, an...</td>\n",
              "    </tr>\n",
              "    <tr>\n",
              "      <th>24780</th>\n",
              "      <td>25294</td>\n",
              "      <td>3</td>\n",
              "      <td>0</td>\n",
              "      <td>3</td>\n",
              "      <td>0</td>\n",
              "      <td>1</td>\n",
              "      <td>young buck wanna eat!!.. dat nigguh like I ain...</td>\n",
              "    </tr>\n",
              "    <tr>\n",
              "      <th>24781</th>\n",
              "      <td>25295</td>\n",
              "      <td>6</td>\n",
              "      <td>0</td>\n",
              "      <td>6</td>\n",
              "      <td>0</td>\n",
              "      <td>1</td>\n",
              "      <td>youu got wild bitches tellin you lies</td>\n",
              "    </tr>\n",
              "    <tr>\n",
              "      <th>24782</th>\n",
              "      <td>25296</td>\n",
              "      <td>3</td>\n",
              "      <td>0</td>\n",
              "      <td>0</td>\n",
              "      <td>3</td>\n",
              "      <td>2</td>\n",
              "      <td>~~Ruffled | Ntac Eileen Dahlia - Beautiful col...</td>\n",
              "    </tr>\n",
              "  </tbody>\n",
              "</table>\n",
              "</div>"
            ],
            "text/plain": [
              "       Unnamed: 0  ...                                              tweet\n",
              "24778       25291  ...  you's a muthaf***in lie &#8220;@LifeAsKing: @2...\n",
              "24779       25292  ...  you've gone and broke the wrong heart baby, an...\n",
              "24780       25294  ...  young buck wanna eat!!.. dat nigguh like I ain...\n",
              "24781       25295  ...              youu got wild bitches tellin you lies\n",
              "24782       25296  ...  ~~Ruffled | Ntac Eileen Dahlia - Beautiful col...\n",
              "\n",
              "[5 rows x 7 columns]"
            ]
          },
          "metadata": {},
          "execution_count": 6
        }
      ]
    },
    {
      "cell_type": "markdown",
      "metadata": {
        "id": "zDtsBcY3Sf_L"
      },
      "source": [
        "# Exploratory Data Analysis"
      ]
    },
    {
      "cell_type": "code",
      "metadata": {
        "colab": {
          "base_uri": "https://localhost:8080/",
          "height": 321
        },
        "id": "p5U4XU6oDsKu",
        "outputId": "1c57651e-ba9b-49cc-fc59-7875ab049217"
      },
      "source": [
        "# Finding the count per class\n",
        "class_count = tweets['class'].value_counts()\n",
        "index_ = ['offensive language', 'neither', 'hate speech']\n",
        "class_count.index = index_\n",
        "\n",
        "# A pie chart showing the percentage of tweets by class\n",
        "plt.figure(figsize=(8,5))\n",
        "plt.pie(x=class_count.values, autopct='%1.1f%%', pctdistance=1.2)\n",
        "plt.legend(class_count.index, bbox_to_anchor=(1.05, 1.0), loc='upper left')\n",
        "plt.title('Percentage of tweets by class', fontsize = 16)\n",
        "plt.show()"
      ],
      "execution_count": null,
      "outputs": [
        {
          "output_type": "display_data",
          "data": {
            "image/png": "[encoded data removed]",
            "text/plain": [
              "<Figure size 576x360 with 1 Axes>"
            ]
          },
          "metadata": {}
        }
      ]
    },
    {
      "cell_type": "markdown",
      "metadata": {
        "id": "NP0ud0HlEjSt"
      },
      "source": [
        "A majority of our tweets are classified as offensive language. Tweets classified as hate speech are the least"
      ]
    },
    {
      "cell_type": "code",
      "metadata": {
        "colab": {
          "base_uri": "https://localhost:8080/",
          "height": 204
        },
        "id": "6bSX9fN-Huxk",
        "outputId": "2cfcdf2f-1b6e-4a73-9e74-fae17594d3dc"
      },
      "source": [
        "# Creating a new column to show the length of a tweet\n",
        "tweets['length'] = tweets['tweet'].apply(lambda x: len(x.split()))\n",
        "tweets.head()"
      ],
      "execution_count": null,
      "outputs": [
        {
          "output_type": "execute_result",
          "data": {
            "text/html": [
              "<div>\n",
              "<style scoped>\n",
              "    .dataframe tbody tr th:only-of-type {\n",
              "        vertical-align: middle;\n",
              "    }\n",
              "\n",
              "    .dataframe tbody tr th {\n",
              "        vertical-align: top;\n",
              "    }\n",
              "\n",
              "    .dataframe thead th {\n",
              "        text-align: right;\n",
              "    }\n",
              "</style>\n",
              "<table border=\"1\" class=\"dataframe\">\n",
              "  <thead>\n",
              "    <tr style=\"text-align: right;\">\n",
              "      <th></th>\n",
              "      <th>Unnamed: 0</th>\n",
              "      <th>count</th>\n",
              "      <th>hate_speech</th>\n",
              "      <th>offensive_language</th>\n",
              "      <th>neither</th>\n",
              "      <th>class</th>\n",
              "      <th>tweet</th>\n",
              "      <th>length</th>\n",
              "    </tr>\n",
              "  </thead>\n",
              "  <tbody>\n",
              "    <tr>\n",
              "      <th>0</th>\n",
              "      <td>0</td>\n",
              "      <td>3</td>\n",
              "      <td>0</td>\n",
              "      <td>0</td>\n",
              "      <td>3</td>\n",
              "      <td>2</td>\n",
              "      <td>!!! RT @mayasolovely: As a woman you shouldn't...</td>\n",
              "      <td>25</td>\n",
              "    </tr>\n",
              "    <tr>\n",
              "      <th>1</th>\n",
              "      <td>1</td>\n",
              "      <td>3</td>\n",
              "      <td>0</td>\n",
              "      <td>3</td>\n",
              "      <td>0</td>\n",
              "      <td>1</td>\n",
              "      <td>!!!!! RT @mleew17: boy dats cold...tyga dwn ba...</td>\n",
              "      <td>16</td>\n",
              "    </tr>\n",
              "    <tr>\n",
              "      <th>2</th>\n",
              "      <td>2</td>\n",
              "      <td>3</td>\n",
              "      <td>0</td>\n",
              "      <td>3</td>\n",
              "      <td>0</td>\n",
              "      <td>1</td>\n",
              "      <td>!!!!!!! RT @UrKindOfBrand Dawg!!!! RT @80sbaby...</td>\n",
              "      <td>21</td>\n",
              "    </tr>\n",
              "    <tr>\n",
              "      <th>3</th>\n",
              "      <td>3</td>\n",
              "      <td>3</td>\n",
              "      <td>0</td>\n",
              "      <td>2</td>\n",
              "      <td>1</td>\n",
              "      <td>1</td>\n",
              "      <td>!!!!!!!!! RT @C_G_Anderson: @viva_based she lo...</td>\n",
              "      <td>9</td>\n",
              "    </tr>\n",
              "    <tr>\n",
              "      <th>4</th>\n",
              "      <td>4</td>\n",
              "      <td>6</td>\n",
              "      <td>0</td>\n",
              "      <td>6</td>\n",
              "      <td>0</td>\n",
              "      <td>1</td>\n",
              "      <td>!!!!!!!!!!!!! RT @ShenikaRoberts: The shit you...</td>\n",
              "      <td>26</td>\n",
              "    </tr>\n",
              "  </tbody>\n",
              "</table>\n",
              "</div>"
            ],
            "text/plain": [
              "   Unnamed: 0  count  ...                                              tweet  length\n",
              "0           0      3  ...  !!! RT @mayasolovely: As a woman you shouldn't...      25\n",
              "1           1      3  ...  !!!!! RT @mleew17: boy dats cold...tyga dwn ba...      16\n",
              "2           2      3  ...  !!!!!!! RT @UrKindOfBrand Dawg!!!! RT @80sbaby...      21\n",
              "3           3      3  ...  !!!!!!!!! RT @C_G_Anderson: @viva_based she lo...       9\n",
              "4           4      6  ...  !!!!!!!!!!!!! RT @ShenikaRoberts: The shit you...      26\n",
              "\n",
              "[5 rows x 8 columns]"
            ]
          },
          "metadata": {},
          "execution_count": 11
        }
      ]
    },
    {
      "cell_type": "code",
      "metadata": {
        "colab": {
          "base_uri": "https://localhost:8080/"
        },
        "id": "jcn_uEWRIfY-",
        "outputId": "6e0e8f2f-92ad-452b-8e87-dc0dc187ac31"
      },
      "source": [
        "# Finding the median lenght of a tweet by class\n",
        "hp_length = tweets[tweets['class'] == 0]['length'].median()\n",
        "ol_length = tweets[tweets['class'] == 1]['length'].median()\n",
        "neither_length = tweets[tweets['class'] == 2]['length'].median()\n",
        "print(f'The median length of a tweet classified as hate speech is {hp_length}')\n",
        "print(f'The median length of a tweet classified as offensive language is {ol_length}')\n",
        "print(f'The median length of a tweet classified as neither is {neither_length}')"
      ],
      "execution_count": null,
      "outputs": [
        {
          "output_type": "stream",
          "name": "stdout",
          "text": [
            "The median length of a tweet classified as hate speech is 13.5\n",
            "The median length of a tweet classified as offensive language is 13.0\n",
            "The median length of a tweet classified as neither is 15.0\n"
          ]
        }
      ]
    },
    {
      "cell_type": "markdown",
      "metadata": {
        "id": "sOU5nK4tcbCu"
      },
      "source": [
        "# Preprocessing"
      ]
    },
    {
      "cell_type": "code",
      "metadata": {
        "colab": {
          "base_uri": "https://localhost:8080/",
          "height": 49
        },
        "id": "K_Yr3MN8c2rO",
        "outputId": "125f8633-abc5-4090-8bad-0a2e0970ef9e"
      },
      "source": [
        "# Checking for issing values\n",
        "percent_missing_values(tweets)"
      ],
      "execution_count": null,
      "outputs": [
        {
          "output_type": "execute_result",
          "data": {
            "text/html": [
              "<div>\n",
              "<style scoped>\n",
              "    .dataframe tbody tr th:only-of-type {\n",
              "        vertical-align: middle;\n",
              "    }\n",
              "\n",
              "    .dataframe tbody tr th {\n",
              "        vertical-align: top;\n",
              "    }\n",
              "\n",
              "    .dataframe thead th {\n",
              "        text-align: right;\n",
              "    }\n",
              "</style>\n",
              "<table border=\"1\" class=\"dataframe\">\n",
              "  <thead>\n",
              "    <tr style=\"text-align: right;\">\n",
              "      <th></th>\n",
              "      <th>Percentage Missing</th>\n",
              "    </tr>\n",
              "  </thead>\n",
              "  <tbody>\n",
              "  </tbody>\n",
              "</table>\n",
              "</div>"
            ],
            "text/plain": [
              "Empty DataFrame\n",
              "Columns: [Percentage Missing]\n",
              "Index: []"
            ]
          },
          "metadata": {},
          "execution_count": 13
        }
      ]
    },
    {
      "cell_type": "code",
      "metadata": {
        "colab": {
          "base_uri": "https://localhost:8080/"
        },
        "id": "CZmCZwe2c_hj",
        "outputId": "36e298a4-819a-4b10-f491-c6325371d500"
      },
      "source": [
        "# Duplicates\n",
        "duplicated_records(tweets)"
      ],
      "execution_count": null,
      "outputs": [
        {
          "output_type": "stream",
          "name": "stdout",
          "text": [
            "No duplicated records\n"
          ]
        }
      ]
    },
    {
      "cell_type": "code",
      "metadata": {
        "id": "OgX-BER6dFHh"
      },
      "source": [
        "# Removing columns we will not use\n",
        "tweets.drop(['Unnamed: 0', 'count', 'hate_speech', 'offensive_language', 'neither'], axis=1, inplace=True)"
      ],
      "execution_count": null,
      "outputs": []
    },
    {
      "cell_type": "code",
      "metadata": {
        "id": "k1X2_lklsx9o",
        "colab": {
          "base_uri": "https://localhost:8080/"
        },
        "outputId": "e923ee88-6aa7-4876-a3d4-d6e758de290f"
      },
      "source": [
        "# Removing mentions, hashtags, urls, lots of whitespace, punctuations from our tweets and lowercasing them\n",
        "tweets['tweet'] = tweets['tweet'].apply(lambda tweet: custom_standardization(tweet))\n",
        "tweets['tweet'].head()"
      ],
      "execution_count": null,
      "outputs": [
        {
          "output_type": "execute_result",
          "data": {
            "text/plain": [
              "0     rt  as a woman you shouldnt complain about cl...\n",
              "1     rt  boy dats coldtyga dwn bad for cuffin dat ...\n",
              "2     rt  dawg rt  you ever fuck a bitch and she st...\n",
              "3                          rt   she look like a tranny\n",
              "4     rt  the shit you hear about me might be true ...\n",
              "Name: tweet, dtype: object"
            ]
          },
          "metadata": {},
          "execution_count": 16
        }
      ]
    },
    {
      "cell_type": "code",
      "metadata": {
        "colab": {
          "base_uri": "https://localhost:8080/"
        },
        "id": "r-mNamtexlIb",
        "outputId": "05b2d7a7-d1c4-4906-ee79-3142ca96cd0e"
      },
      "source": [
        "# Removing stop words such as the, I, me etc.from our tweets\n",
        "stopwords = set(stopwords.words('english'))\n",
        "tweets['tweet'] = tweets['tweet'].apply(lambda tweet: remove_stopwords(tweet))\n",
        "tweets['tweet'].head()"
      ],
      "execution_count": null,
      "outputs": [
        {
          "output_type": "execute_result",
          "data": {
            "text/plain": [
              "0    rt woman shouldnt complain cleaning house amp ...\n",
              "1    rt boy dats coldtyga dwn bad cuffin dat hoe 1s...\n",
              "2    rt dawg rt ever fuck bitch start cry confused ...\n",
              "3                                  rt look like tranny\n",
              "4    rt shit hear might true might faker bitch told ya\n",
              "Name: tweet, dtype: object"
            ]
          },
          "metadata": {},
          "execution_count": 17
        }
      ]
    },
    {
      "cell_type": "code",
      "metadata": {
        "colab": {
          "base_uri": "https://localhost:8080/"
        },
        "id": "SuaACDs2vACF",
        "outputId": "d1f4f2d1-3c57-40e9-d6b9-5d429c7b88b8"
      },
      "source": [
        "# Tokenizing - dividing strings into list of words\n",
        "tweets['tweet'] = tweets['tweet'].apply(nltk.word_tokenize)\n",
        "tweets['tweet'].head()"
      ],
      "execution_count": null,
      "outputs": [
        {
          "output_type": "execute_result",
          "data": {
            "text/plain": [
              "0    [rt, woman, shouldnt, complain, cleaning, hous...\n",
              "1    [rt, boy, dats, coldtyga, dwn, bad, cuffin, da...\n",
              "2    [rt, dawg, rt, ever, fuck, bitch, start, cry, ...\n",
              "3                             [rt, look, like, tranny]\n",
              "4    [rt, shit, hear, might, true, might, faker, bi...\n",
              "Name: tweet, dtype: object"
            ]
          },
          "metadata": {},
          "execution_count": 18
        }
      ]
    },
    {
      "cell_type": "code",
      "metadata": {
        "colab": {
          "base_uri": "https://localhost:8080/"
        },
        "id": "I6N90w9d0Gsk",
        "outputId": "055a3705-4eeb-44ef-a72b-65d98a04caa4"
      },
      "source": [
        "# Stemming - reducing a word to its word stem\n",
        "stemmer = PorterStemmer()\n",
        "tweets['tweet'] = tweets['tweet'].apply(lambda x: [stemmer.stem(y) for y in x])\n",
        "tweets['tweet'].head()"
      ],
      "execution_count": null,
      "outputs": [
        {
          "output_type": "execute_result",
          "data": {
            "text/plain": [
              "0    [rt, woman, shouldnt, complain, clean, hous, a...\n",
              "1    [rt, boy, dat, coldtyga, dwn, bad, cuffin, dat...\n",
              "2    [rt, dawg, rt, ever, fuck, bitch, start, cri, ...\n",
              "3                             [rt, look, like, tranni]\n",
              "4    [rt, shit, hear, might, true, might, faker, bi...\n",
              "Name: tweet, dtype: object"
            ]
          },
          "metadata": {},
          "execution_count": 19
        }
      ]
    },
    {
      "cell_type": "code",
      "metadata": {
        "colab": {
          "base_uri": "https://localhost:8080/"
        },
        "id": "KznV7ELF15G0",
        "outputId": "02eb0f62-9360-4411-ccd9-410803301a5d"
      },
      "source": [
        "# Lemmatizing - same as stemming but context is taken into consideration for example - am : be, having - have\n",
        "lem = WordNetLemmatizer()\n",
        "tweets['tweet'] = tweets['tweet'].apply(lambda x: [lem.lemmatize(y) for y in x])\n",
        "tweets['tweet'].head()"
      ],
      "execution_count": null,
      "outputs": [
        {
          "output_type": "execute_result",
          "data": {
            "text/plain": [
              "0    [rt, woman, shouldnt, complain, clean, hous, a...\n",
              "1    [rt, boy, dat, coldtyga, dwn, bad, cuffin, dat...\n",
              "2    [rt, dawg, rt, ever, fuck, bitch, start, cri, ...\n",
              "3                             [rt, look, like, tranni]\n",
              "4    [rt, shit, hear, might, true, might, faker, bi...\n",
              "Name: tweet, dtype: object"
            ]
          },
          "metadata": {},
          "execution_count": 20
        }
      ]
    },
    {
      "cell_type": "code",
      "metadata": {
        "colab": {
          "base_uri": "https://localhost:8080/"
        },
        "id": "OOUwTBkH5e85",
        "outputId": "24064c97-3397-45b5-ffcc-878e6ff1506d"
      },
      "source": [
        "# Join the words to form a complete string\n",
        "tweets['tweet'] = tweets['tweet'].apply(lambda tweet: ' '.join(tweet))\n",
        "tweets['tweet'].head()"
      ],
      "execution_count": null,
      "outputs": [
        {
          "output_type": "execute_result",
          "data": {
            "text/plain": [
              "0    rt woman shouldnt complain clean hous amp man ...\n",
              "1    rt boy dat coldtyga dwn bad cuffin dat hoe 1st...\n",
              "2     rt dawg rt ever fuck bitch start cri confus shit\n",
              "3                                  rt look like tranni\n",
              "4    rt shit hear might true might faker bitch told ya\n",
              "Name: tweet, dtype: object"
            ]
          },
          "metadata": {},
          "execution_count": 21
        }
      ]
    },
    {
      "cell_type": "code",
      "metadata": {
        "colab": {
          "base_uri": "https://localhost:8080/",
          "height": 204
        },
        "id": "zhxfwds2AiJO",
        "outputId": "f99850fa-77cd-493a-80a1-aeb46a354334"
      },
      "source": [
        "# Label Encoding our class column using pd.getdummies\n",
        "# class_0 - hatespeech, class_1 = offensive language, class_2 = neither\n",
        "tweets = pd.get_dummies(tweets, columns=['class'])\n",
        "tweets.head()"
      ],
      "execution_count": null,
      "outputs": [
        {
          "output_type": "execute_result",
          "data": {
            "text/html": [
              "<div>\n",
              "<style scoped>\n",
              "    .dataframe tbody tr th:only-of-type {\n",
              "        vertical-align: middle;\n",
              "    }\n",
              "\n",
              "    .dataframe tbody tr th {\n",
              "        vertical-align: top;\n",
              "    }\n",
              "\n",
              "    .dataframe thead th {\n",
              "        text-align: right;\n",
              "    }\n",
              "</style>\n",
              "<table border=\"1\" class=\"dataframe\">\n",
              "  <thead>\n",
              "    <tr style=\"text-align: right;\">\n",
              "      <th></th>\n",
              "      <th>tweet</th>\n",
              "      <th>length</th>\n",
              "      <th>class_0</th>\n",
              "      <th>class_1</th>\n",
              "      <th>class_2</th>\n",
              "    </tr>\n",
              "  </thead>\n",
              "  <tbody>\n",
              "    <tr>\n",
              "      <th>0</th>\n",
              "      <td>rt woman shouldnt complain clean hous amp man ...</td>\n",
              "      <td>25</td>\n",
              "      <td>0</td>\n",
              "      <td>0</td>\n",
              "      <td>1</td>\n",
              "    </tr>\n",
              "    <tr>\n",
              "      <th>1</th>\n",
              "      <td>rt boy dat coldtyga dwn bad cuffin dat hoe 1st...</td>\n",
              "      <td>16</td>\n",
              "      <td>0</td>\n",
              "      <td>1</td>\n",
              "      <td>0</td>\n",
              "    </tr>\n",
              "    <tr>\n",
              "      <th>2</th>\n",
              "      <td>rt dawg rt ever fuck bitch start cri confus shit</td>\n",
              "      <td>21</td>\n",
              "      <td>0</td>\n",
              "      <td>1</td>\n",
              "      <td>0</td>\n",
              "    </tr>\n",
              "    <tr>\n",
              "      <th>3</th>\n",
              "      <td>rt look like tranni</td>\n",
              "      <td>9</td>\n",
              "      <td>0</td>\n",
              "      <td>1</td>\n",
              "      <td>0</td>\n",
              "    </tr>\n",
              "    <tr>\n",
              "      <th>4</th>\n",
              "      <td>rt shit hear might true might faker bitch told ya</td>\n",
              "      <td>26</td>\n",
              "      <td>0</td>\n",
              "      <td>1</td>\n",
              "      <td>0</td>\n",
              "    </tr>\n",
              "  </tbody>\n",
              "</table>\n",
              "</div>"
            ],
            "text/plain": [
              "                                               tweet  length  ...  class_1  class_2\n",
              "0  rt woman shouldnt complain clean hous amp man ...      25  ...        0        1\n",
              "1  rt boy dat coldtyga dwn bad cuffin dat hoe 1st...      16  ...        1        0\n",
              "2   rt dawg rt ever fuck bitch start cri confus shit      21  ...        1        0\n",
              "3                                rt look like tranni       9  ...        1        0\n",
              "4  rt shit hear might true might faker bitch told ya      26  ...        1        0\n",
              "\n",
              "[5 rows x 5 columns]"
            ]
          },
          "metadata": {},
          "execution_count": 22
        }
      ]
    },
    {
      "cell_type": "code",
      "metadata": {
        "id": "qIPH6hjBA4_y"
      },
      "source": [
        "# Separating our dependent and independent variables\n",
        "X = tweets['tweet']\n",
        "y = tweets.drop(['tweet', 'length'], axis=1)"
      ],
      "execution_count": null,
      "outputs": []
    },
    {
      "cell_type": "code",
      "metadata": {
        "id": "jUPXC5DVivC4"
      },
      "source": [
        "# Tokenizing to assign each word a unique id and only returning the 3000 most common words\n",
        "tokenizer = Tokenizer(num_words=3000)\n",
        "tokenizer.fit_on_texts(X)\n",
        "sequence = tokenizer.texts_to_sequences(X)"
      ],
      "execution_count": null,
      "outputs": []
    },
    {
      "cell_type": "code",
      "metadata": {
        "id": "uaCgGwfhllG1"
      },
      "source": [
        "# Padding - neural networks require the input sequence data with the same length \n",
        "sequence_matrix = pad_sequences(sequence, maxlen = 280)"
      ],
      "execution_count": null,
      "outputs": []
    },
    {
      "cell_type": "code",
      "metadata": {
        "id": "z89XGkZv4wmn"
      },
      "source": [
        "# Splitting our dataset into training and testing datasets\n",
        "X_train, X_test, Y_train, Y_test = train_test_split(sequence_matrix, y, test_size=0.1, random_state=0)"
      ],
      "execution_count": null,
      "outputs": []
    },
    {
      "cell_type": "markdown",
      "metadata": {
        "id": "LjegVouCAYWG"
      },
      "source": [
        "# Modelling"
      ]
    },
    {
      "cell_type": "code",
      "metadata": {
        "colab": {
          "base_uri": "https://localhost:8080/"
        },
        "id": "vcWkXIZ_8E9L",
        "outputId": "81d9b487-c209-49b4-c581-c44d22ce9592"
      },
      "source": [
        "# Building our neural network layer by layer\n",
        "# 1st layer is embedding which converts words into vectors to enable the machine to calculate similarity\n",
        "# The 2nd layer is long short term memory which save the words and enables the model to predict the next words based on the previous words\n",
        "# The 3rd layer has 256 nodes and is activated using 'relu'\n",
        "# Then we drop out 20% of the nodes to prevent overfitting\n",
        "# The last layer is our output layer with 3 nodes for our three classes, with activation 'sigmoid'\n",
        "model = tf.keras.Sequential([\n",
        "  layers.Embedding(3000,50, input_length=280),\n",
        "  layers.LSTM(64),\n",
        "  layers.Dense(256, activation='relu'),\n",
        "  layers.Dropout(0.2),\n",
        "  layers.Dense(3, activation = 'sigmoid')\n",
        "  ])\n",
        "\n",
        "model.summary()"
      ],
      "execution_count": null,
      "outputs": [
        {
          "output_type": "stream",
          "name": "stdout",
          "text": [
            "Model: \"sequential\"\n",
            "_________________________________________________________________\n",
            " Layer (type)                Output Shape              Param #   \n",
            "=================================================================\n",
            " embedding (Embedding)       (None, 280, 50)           150000    \n",
            "                                                                 \n",
            " lstm (LSTM)                 (None, 64)                29440     \n",
            "                                                                 \n",
            " dense (Dense)               (None, 256)               16640     \n",
            "                                                                 \n",
            " dropout (Dropout)           (None, 256)               0         \n",
            "                                                                 \n",
            " dense_1 (Dense)             (None, 3)                 771       \n",
            "                                                                 \n",
            "=================================================================\n",
            "Total params: 196,851\n",
            "Trainable params: 196,851\n",
            "Non-trainable params: 0\n",
            "_________________________________________________________________\n"
          ]
        }
      ]
    },
    {
      "cell_type": "code",
      "metadata": {
        "id": "LMsLFCw_8CJe"
      },
      "source": [
        "# Configuring our model with the categorical cross entropy loss function, and using adam optimzer\n",
        "model.compile(loss=tf.keras.losses.CategoricalCrossentropy(), optimizer='adam', metrics=[\"CategoricalAccuracy\"])"
      ],
      "execution_count": null,
      "outputs": []
    },
    {
      "cell_type": "code",
      "metadata": {
        "colab": {
          "base_uri": "https://localhost:8080/"
        },
        "id": "pd5p4A0A8KGT",
        "outputId": "e3b70a52-fdb6-4e59-f425-805d2e1dd09c"
      },
      "source": [
        "# Training the model\n",
        "history = model.fit(X_train, Y_train, batch_size=80, epochs=6, validation_split=0.1)"
      ],
      "execution_count": null,
      "outputs": [
        {
          "output_type": "stream",
          "name": "stdout",
          "text": [
            "Epoch 1/6\n",
            "251/251 [==============================] - 65s 250ms/step - loss: 0.4782 - categorical_accuracy: 0.8319 - val_loss: 0.3157 - val_categorical_accuracy: 0.8875\n",
            "Epoch 2/6\n",
            "251/251 [==============================] - 63s 249ms/step - loss: 0.2612 - categorical_accuracy: 0.9083 - val_loss: 0.2727 - val_categorical_accuracy: 0.9032\n",
            "Epoch 3/6\n",
            "251/251 [==============================] - 62s 249ms/step - loss: 0.2104 - categorical_accuracy: 0.9236 - val_loss: 0.2900 - val_categorical_accuracy: 0.8938\n",
            "Epoch 4/6\n",
            "251/251 [==============================] - 62s 249ms/step - loss: 0.1876 - categorical_accuracy: 0.9327 - val_loss: 0.3074 - val_categorical_accuracy: 0.8942\n",
            "Epoch 5/6\n",
            "251/251 [==============================] - 62s 247ms/step - loss: 0.1698 - categorical_accuracy: 0.9381 - val_loss: 0.3259 - val_categorical_accuracy: 0.8933\n",
            "Epoch 6/6\n",
            "251/251 [==============================] - 62s 248ms/step - loss: 0.1546 - categorical_accuracy: 0.9418 - val_loss: 0.3798 - val_categorical_accuracy: 0.8857\n"
          ]
        }
      ]
    },
    {
      "cell_type": "code",
      "metadata": {
        "colab": {
          "base_uri": "https://localhost:8080/"
        },
        "id": "Cpm33Oxy9R16",
        "outputId": "9ed27252-c2e7-4781-b32a-a2e61486f4d1"
      },
      "source": [
        "# Evaluating our model's performance using the testing data\n",
        "accr1 = model.evaluate(X_test,Y_test)"
      ],
      "execution_count": null,
      "outputs": [
        {
          "output_type": "stream",
          "name": "stdout",
          "text": [
            "78/78 [==============================] - 3s 36ms/step - loss: 0.3898 - categorical_accuracy: 0.8822\n"
          ]
        }
      ]
    },
    {
      "cell_type": "code",
      "metadata": {
        "id": "HdFmwQ1dB_3R"
      },
      "source": [
        "# Plotting the training and validation loss and accuracy per epoch for comparison\n",
        "history_dict = history.history\n",
        "history_dict.keys()\n",
        "\n",
        "acc = history_dict['categorical_accuracy']\n",
        "val_acc = history_dict['val_categorical_accuracy']\n",
        "loss = history_dict['loss']\n",
        "val_loss = history_dict['val_loss']"
      ],
      "execution_count": null,
      "outputs": []
    },
    {
      "cell_type": "code",
      "metadata": {
        "colab": {
          "base_uri": "https://localhost:8080/",
          "height": 295
        },
        "id": "Q_ds8_AACVeq",
        "outputId": "e75771b5-3ab0-44b0-c487-b34fd322d0f1"
      },
      "source": [
        "# Training and validation loss per epoch\n",
        "epochs = range(1, len(acc) + 1)\n",
        "\n",
        "plt.plot(epochs, loss, 'bo', label='Training loss')\n",
        "plt.plot(epochs, val_loss, 'b', label = 'Validation loss')\n",
        "plt.title('Training and validation loss')\n",
        "plt.xlabel('Epochs')\n",
        "plt.ylabel('Loss')\n",
        "plt.legend()\n",
        "\n",
        "plt.show()"
      ],
      "execution_count": null,
      "outputs": [
        {
          "output_type": "display_data",
          "data": {
            "image/png": "[encoded data removed]",
            "text/plain": [
              "<Figure size 432x288 with 1 Axes>"
            ]
          },
          "metadata": {
            "needs_background": "light"
          }
        }
      ]
    },
    {
      "cell_type": "code",
      "metadata": {
        "colab": {
          "base_uri": "https://localhost:8080/",
          "height": 295
        },
        "id": "hsTELZhOEP7p",
        "outputId": "45720301-c33d-44f9-84d7-587abdd955c6"
      },
      "source": [
        "# Plotting training and validation accuracy per epoch\n",
        "plt.plot(epochs, acc, 'bo', label='Training accuracy')\n",
        "plt.plot(epochs, val_acc, 'b', label = 'Validation accuracy')\n",
        "plt.title('Training and validation loss')\n",
        "plt.xlabel('Epochs')\n",
        "plt.ylabel('Accuracy')\n",
        "plt.legend()\n",
        "\n",
        "plt.show()"
      ],
      "execution_count": null,
      "outputs": [
        {
          "output_type": "display_data",
          "data": {
            "image/png": "[encoded data removed]",
            "text/plain": [
              "<Figure size 432x288 with 1 Axes>"
            ]
          },
          "metadata": {
            "needs_background": "light"
          }
        }
      ]
    },
    {
      "cell_type": "markdown",
      "metadata": {
        "id": "HiRZo2dxSh8C"
      },
      "source": [
        "After 2 epochs our model performs worse and worse on the validation dataset, a sign of overfitting. Therefore we will only train our model with 2 epochs"
      ]
    },
    {
      "cell_type": "code",
      "metadata": {
        "colab": {
          "base_uri": "https://localhost:8080/"
        },
        "id": "Sha6WLUpFaIR",
        "outputId": "40f52881-cf92-4d9a-aace-7327fd416a13"
      },
      "source": [
        "# Training our model with 2 epochs\n",
        "history1 = model.fit(X_train, Y_train, batch_size=80, epochs=2, validation_split=0.1)"
      ],
      "execution_count": null,
      "outputs": [
        {
          "output_type": "stream",
          "name": "stdout",
          "text": [
            "Epoch 1/2\n",
            "251/251 [==============================] - 59s 227ms/step - loss: 0.4805 - categorical_accuracy: 0.8295 - val_loss: 0.3123 - val_categorical_accuracy: 0.8906\n",
            "Epoch 2/2\n",
            "251/251 [==============================] - 56s 223ms/step - loss: 0.2583 - categorical_accuracy: 0.9068 - val_loss: 0.2661 - val_categorical_accuracy: 0.9081\n"
          ]
        }
      ]
    },
    {
      "cell_type": "code",
      "metadata": {
        "colab": {
          "base_uri": "https://localhost:8080/"
        },
        "id": "X8ZNDGjkFn0b",
        "outputId": "a55ee862-0ea8-404a-aa7c-380a94d7204b"
      },
      "source": [
        "# Evaluating the accuracy of our model\n",
        "accr2 = model.evaluate(X_test,Y_test)"
      ],
      "execution_count": null,
      "outputs": [
        {
          "output_type": "stream",
          "name": "stdout",
          "text": [
            "78/78 [==============================] - 3s 33ms/step - loss: 0.2939 - categorical_accuracy: 0.8947\n"
          ]
        }
      ]
    },
    {
      "cell_type": "code",
      "metadata": {
        "id": "GGIizhVfI8HU",
        "colab": {
          "base_uri": "https://localhost:8080/"
        },
        "outputId": "3c225506-858d-4ac6-b395-4e41e024f8c9"
      },
      "source": [
        "# Predicting the class of our datasets\n",
        "# .predict returns the probability of a tweet belonging to a class\n",
        "y_pred_prob  = model.predict(X_test)\n",
        "y_pred_prob"
      ],
      "execution_count": null,
      "outputs": [
        {
          "output_type": "execute_result",
          "data": {
            "text/plain": [
              "array([[0.2175903 , 0.2519356 , 0.86038935],\n",
              "       [0.19673431, 0.98820126, 0.04406464],\n",
              "       [0.11801383, 0.97550803, 0.13448799],\n",
              "       ...,\n",
              "       [0.07027709, 0.9682878 , 0.24184847],\n",
              "       [0.19944334, 0.9440767 , 0.16804725],\n",
              "       [0.38261724, 0.9907752 , 0.01395032]], dtype=float32)"
            ]
          },
          "metadata": {},
          "execution_count": 32
        }
      ]
    },
    {
      "cell_type": "code",
      "metadata": {
        "colab": {
          "base_uri": "https://localhost:8080/"
        },
        "id": "7QO3p119tE7w",
        "outputId": "fe637ef5-5844-443d-c843-4885bfcbf6cb"
      },
      "source": [
        "# To get the class of the tweet we find the index of the maximum probability per row\n",
        "# So index - 0 is hatespeech, 1 is offensive language and 2 is neither\n",
        "y_pred_class = np.argmax(y_pred_prob, axis=1)\n",
        "y_pred_class"
      ],
      "execution_count": null,
      "outputs": [
        {
          "output_type": "execute_result",
          "data": {
            "text/plain": [
              "array([2, 1, 1, ..., 1, 1, 1])"
            ]
          },
          "metadata": {},
          "execution_count": 33
        }
      ]
    },
    {
      "cell_type": "code",
      "metadata": {
        "colab": {
          "base_uri": "https://localhost:8080/",
          "height": 204
        },
        "id": "YTF0Ur2Gevcq",
        "outputId": "30aa7661-7a99-4d85-90a3-0486a1695012"
      },
      "source": [
        "Y_test.head()"
      ],
      "execution_count": null,
      "outputs": [
        {
          "output_type": "execute_result",
          "data": {
            "text/html": [
              "<div>\n",
              "<style scoped>\n",
              "    .dataframe tbody tr th:only-of-type {\n",
              "        vertical-align: middle;\n",
              "    }\n",
              "\n",
              "    .dataframe tbody tr th {\n",
              "        vertical-align: top;\n",
              "    }\n",
              "\n",
              "    .dataframe thead th {\n",
              "        text-align: right;\n",
              "    }\n",
              "</style>\n",
              "<table border=\"1\" class=\"dataframe\">\n",
              "  <thead>\n",
              "    <tr style=\"text-align: right;\">\n",
              "      <th></th>\n",
              "      <th>class_0</th>\n",
              "      <th>class_1</th>\n",
              "      <th>class_2</th>\n",
              "    </tr>\n",
              "  </thead>\n",
              "  <tbody>\n",
              "    <tr>\n",
              "      <th>4129</th>\n",
              "      <td>0</td>\n",
              "      <td>0</td>\n",
              "      <td>1</td>\n",
              "    </tr>\n",
              "    <tr>\n",
              "      <th>15081</th>\n",
              "      <td>0</td>\n",
              "      <td>1</td>\n",
              "      <td>0</td>\n",
              "    </tr>\n",
              "    <tr>\n",
              "      <th>16547</th>\n",
              "      <td>0</td>\n",
              "      <td>1</td>\n",
              "      <td>0</td>\n",
              "    </tr>\n",
              "    <tr>\n",
              "      <th>4273</th>\n",
              "      <td>1</td>\n",
              "      <td>0</td>\n",
              "      <td>0</td>\n",
              "    </tr>\n",
              "    <tr>\n",
              "      <th>4254</th>\n",
              "      <td>0</td>\n",
              "      <td>0</td>\n",
              "      <td>1</td>\n",
              "    </tr>\n",
              "  </tbody>\n",
              "</table>\n",
              "</div>"
            ],
            "text/plain": [
              "       class_0  class_1  class_2\n",
              "4129         0        0        1\n",
              "15081        0        1        0\n",
              "16547        0        1        0\n",
              "4273         1        0        0\n",
              "4254         0        0        1"
            ]
          },
          "metadata": {},
          "execution_count": 34
        }
      ]
    },
    {
      "cell_type": "code",
      "metadata": {
        "colab": {
          "base_uri": "https://localhost:8080/"
        },
        "id": "a9f0a5icvEiY",
        "outputId": "20adc836-fc88-4906-a0a1-75580c68dd5f"
      },
      "source": [
        "# Creating an array of the correct labels from our Y_test\n",
        "y_test = Y_test.idxmax(axis=1).values\n",
        "conditions =[\n",
        "             y_test == 'class_0',\n",
        "             y_test == 'class_1',\n",
        "             y_test == 'class_2'\n",
        "]\n",
        "values = [0, 1, 2]\n",
        "\n",
        "y_test = np.select(conditions, values)\n",
        "y_test"
      ],
      "execution_count": null,
      "outputs": [
        {
          "output_type": "execute_result",
          "data": {
            "text/plain": [
              "array([2, 1, 1, ..., 1, 1, 1])"
            ]
          },
          "metadata": {},
          "execution_count": 35
        }
      ]
    },
    {
      "cell_type": "code",
      "metadata": {
        "colab": {
          "base_uri": "https://localhost:8080/"
        },
        "id": "iQZDnMqGybip",
        "outputId": "a18a411d-dc3b-4106-b927-03f4c39abfa9"
      },
      "source": [
        "# Creating a confusion matrix to evaluate the performance of our model\n",
        "conf_matrix = confusion_matrix(y_test, y_pred_class)\n",
        "print(conf_matrix)"
      ],
      "execution_count": null,
      "outputs": [
        {
          "output_type": "stream",
          "name": "stdout",
          "text": [
            "[[  32   98   15]\n",
            " [  32 1830   66]\n",
            " [   2   48  356]]\n"
          ]
        }
      ]
    },
    {
      "cell_type": "code",
      "metadata": {
        "colab": {
          "base_uri": "https://localhost:8080/"
        },
        "id": "uibpGPbYmX7H",
        "outputId": "36103ce3-4350-4a7f-c3ae-900f542760bd"
      },
      "source": [
        "# Classification report\n",
        "print(classification_report(y_test, y_pred_class))"
      ],
      "execution_count": null,
      "outputs": [
        {
          "output_type": "stream",
          "name": "stdout",
          "text": [
            "              precision    recall  f1-score   support\n",
            "\n",
            "           0       0.48      0.22      0.30       145\n",
            "           1       0.93      0.95      0.94      1928\n",
            "           2       0.81      0.88      0.84       406\n",
            "\n",
            "    accuracy                           0.89      2479\n",
            "   macro avg       0.74      0.68      0.70      2479\n",
            "weighted avg       0.88      0.89      0.89      2479\n",
            "\n"
          ]
        }
      ]
    },
    {
      "cell_type": "code",
      "metadata": {
        "colab": {
          "base_uri": "https://localhost:8080/",
          "height": 265
        },
        "id": "BV7DuVJQzatb",
        "outputId": "c9f205da-342f-4319-db93-6d52c786602c"
      },
      "source": [
        "# Visualization\n",
        "sns.heatmap(conf_matrix, annot=True, cmap='Blues')\n",
        "plt.savefig('conf_matrix.png')\n",
        "plt.show()"
      ],
      "execution_count": null,
      "outputs": [
        {
          "output_type": "display_data",
          "data": {
            "image/png": "[encoded data removed]",
            "text/plain": [
              "<Figure size 432x288 with 2 Axes>"
            ]
          },
          "metadata": {
            "needs_background": "light"
          }
        }
      ]
    },
    {
      "cell_type": "markdown",
      "metadata": {
        "id": "FAha5Oew0mgK"
      },
      "source": [
        "# Deployment"
      ]
    },
    {
      "cell_type": "code",
      "metadata": {
        "id": "6wWtO7bx0pH7"
      },
      "source": [
        "# Loading our scrapped tweets into a datasest for deploying\n",
        "deploy = pd.read_csv('/content/test_data_another.csv')"
      ],
      "execution_count": null,
      "outputs": []
    },
    {
      "cell_type": "code",
      "metadata": {
        "colab": {
          "base_uri": "https://localhost:8080/",
          "height": 204
        },
        "id": "GLkAnrQ71JL2",
        "outputId": "b4514a4a-4433-4c31-fa67-cc4e6e496ec1"
      },
      "source": [
        "# Previewing the top of our dataset\n",
        "deploy.head()"
      ],
      "execution_count": null,
      "outputs": [
        {
          "output_type": "execute_result",
          "data": {
            "text/html": [
              "<div>\n",
              "<style scoped>\n",
              "    .dataframe tbody tr th:only-of-type {\n",
              "        vertical-align: middle;\n",
              "    }\n",
              "\n",
              "    .dataframe tbody tr th {\n",
              "        vertical-align: top;\n",
              "    }\n",
              "\n",
              "    .dataframe thead th {\n",
              "        text-align: right;\n",
              "    }\n",
              "</style>\n",
              "<table border=\"1\" class=\"dataframe\">\n",
              "  <thead>\n",
              "    <tr style=\"text-align: right;\">\n",
              "      <th></th>\n",
              "      <th>index</th>\n",
              "      <th>tweet</th>\n",
              "    </tr>\n",
              "  </thead>\n",
              "  <tbody>\n",
              "    <tr>\n",
              "      <th>0</th>\n",
              "      <td>1</td>\n",
              "      <td>As of being a bitch to (Cheryl) because I cann...</td>\n",
              "    </tr>\n",
              "    <tr>\n",
              "      <th>1</th>\n",
              "      <td>2</td>\n",
              "      <td>when pH-1 said sick and tired off hearing all ...</td>\n",
              "    </tr>\n",
              "    <tr>\n",
              "      <th>2</th>\n",
              "      <td>3</td>\n",
              "      <td>Its pretty simple; get vaxxed or prepare to ge...</td>\n",
              "    </tr>\n",
              "    <tr>\n",
              "      <th>3</th>\n",
              "      <td>4</td>\n",
              "      <td>No but like imagine a complete stranger giving...</td>\n",
              "    </tr>\n",
              "    <tr>\n",
              "      <th>4</th>\n",
              "      <td>5</td>\n",
              "      <td>Unless you eitherWere alive &amp; aware during the...</td>\n",
              "    </tr>\n",
              "  </tbody>\n",
              "</table>\n",
              "</div>"
            ],
            "text/plain": [
              "   index                                              tweet\n",
              "0      1  As of being a bitch to (Cheryl) because I cann...\n",
              "1      2  when pH-1 said sick and tired off hearing all ...\n",
              "2      3  Its pretty simple; get vaxxed or prepare to ge...\n",
              "3      4  No but like imagine a complete stranger giving...\n",
              "4      5  Unless you eitherWere alive & aware during the..."
            ]
          },
          "metadata": {},
          "execution_count": 41
        }
      ]
    },
    {
      "cell_type": "code",
      "metadata": {
        "colab": {
          "base_uri": "https://localhost:8080/"
        },
        "id": "qW6ZaJ5hkNXr",
        "outputId": "f12bc976-6bf0-4a0b-99c1-9c7ec643fe02"
      },
      "source": [
        "deploy.shape"
      ],
      "execution_count": null,
      "outputs": [
        {
          "output_type": "execute_result",
          "data": {
            "text/plain": [
              "(357, 2)"
            ]
          },
          "metadata": {},
          "execution_count": 42
        }
      ]
    },
    {
      "cell_type": "code",
      "metadata": {
        "id": "A57g2Koh-UWD"
      },
      "source": [
        "# Dropping the first column as it is unnecessary\n",
        "deploy.drop(deploy.iloc[:,0:1], axis=1, inplace=True)"
      ],
      "execution_count": null,
      "outputs": []
    },
    {
      "cell_type": "code",
      "metadata": {
        "id": "-DTNLCMc_W5p"
      },
      "source": [
        "# Creating a copy for later user\n",
        "copy_deploy = deploy.copy()"
      ],
      "execution_count": null,
      "outputs": []
    },
    {
      "cell_type": "markdown",
      "metadata": {
        "id": "19RL2_Q0gDdX"
      },
      "source": [
        "To be able to fees our tweets into the model we first need to process them into a format that is acceptable"
      ]
    },
    {
      "cell_type": "code",
      "metadata": {
        "colab": {
          "base_uri": "https://localhost:8080/"
        },
        "id": "Y6_U7voJ3IDz",
        "outputId": "4a11cd28-d970-419b-e254-2b12cbd197fa"
      },
      "source": [
        "# Removing mentions, hashtags, urls, lots of whitespace, punctuations from our tweets and lowercasing them\n",
        "deploy['tweet'] = deploy['tweet'].apply(lambda tweet: custom_standardization(tweet))\n",
        "deploy['tweet'].head()"
      ],
      "execution_count": null,
      "outputs": [
        {
          "output_type": "execute_result",
          "data": {
            "text/plain": [
              "0    as of being a bitch to cheryl because i cannot...\n",
              "1    when ph1 said sick and tired off hearing all u...\n",
              "2    its pretty simple get vaxxed or prepare to get...\n",
              "3    no but like imagine a complete stranger giving...\n",
              "4    unless you eitherwere alive  aware during the ...\n",
              "Name: tweet, dtype: object"
            ]
          },
          "metadata": {},
          "execution_count": 45
        }
      ]
    },
    {
      "cell_type": "code",
      "metadata": {
        "colab": {
          "base_uri": "https://localhost:8080/"
        },
        "id": "sr8Se5vq4eAO",
        "outputId": "f613c31b-bedf-41fb-da28-cb5b2f3ae58d"
      },
      "source": [
        "# Removing stop words such as the, I, me etc.from our tweets\n",
        "from nltk.corpus import stopwords\n",
        "nltk.download('stopwords')\n",
        "stopwords = set(stopwords.words('english'))\n",
        "deploy['tweet'] = deploy['tweet'].apply(lambda tweet: remove_stopwords(tweet))\n",
        "deploy['tweet'].head()"
      ],
      "execution_count": null,
      "outputs": [
        {
          "output_type": "stream",
          "name": "stdout",
          "text": [
            "[nltk_data] Downloading package stopwords to /root/nltk_data...\n",
            "[nltk_data]   Package stopwords is already up-to-date!\n"
          ]
        },
        {
          "output_type": "execute_result",
          "data": {
            "text/plain": [
              "0    bitch cheryl cannot die stab eye hurts instead...\n",
              "1    ph1 said sick tired hearing ur lies stop last ...\n",
              "2    pretty simple get vaxxed prepare get sick die ...\n",
              "3    like imagine complete stranger giving child fu...\n",
              "4    unless eitherwere alive aware periodorhave adv...\n",
              "Name: tweet, dtype: object"
            ]
          },
          "metadata": {},
          "execution_count": 48
        }
      ]
    },
    {
      "cell_type": "code",
      "metadata": {
        "colab": {
          "base_uri": "https://localhost:8080/"
        },
        "id": "McTf7QPI3lHS",
        "outputId": "380859a0-284b-4c3a-d8c7-6a111025e338"
      },
      "source": [
        "# Tokenizing - dividing strings into lists of substrings\n",
        "deploy['tweet'] = deploy['tweet'].apply(nltk.word_tokenize)\n",
        "deploy['tweet'].head()"
      ],
      "execution_count": null,
      "outputs": [
        {
          "output_type": "execute_result",
          "data": {
            "text/plain": [
              "0    [bitch, cheryl, can, not, die, stab, eye, hurt...\n",
              "1    [ph1, said, sick, tired, hearing, ur, lies, st...\n",
              "2    [pretty, simple, get, vaxxed, prepare, get, si...\n",
              "3    [like, imagine, complete, stranger, giving, ch...\n",
              "4    [unless, eitherwere, alive, aware, periodorhav...\n",
              "Name: tweet, dtype: object"
            ]
          },
          "metadata": {},
          "execution_count": 49
        }
      ]
    },
    {
      "cell_type": "code",
      "metadata": {
        "colab": {
          "base_uri": "https://localhost:8080/"
        },
        "id": "zoqO8Av83yil",
        "outputId": "790fec99-3f7b-4ba3-b86a-e99765a7a648"
      },
      "source": [
        "# Stemming - reducing a word to its word stem\n",
        "stemmer = PorterStemmer()\n",
        "deploy['tweet'] = deploy['tweet'].apply(lambda x: [stemmer.stem(y) for y in x])\n",
        "deploy['tweet'].head()"
      ],
      "execution_count": null,
      "outputs": [
        {
          "output_type": "execute_result",
          "data": {
            "text/plain": [
              "0    [bitch, cheryl, can, not, die, stab, eye, hurt...\n",
              "1    [ph1, said, sick, tire, hear, ur, lie, stop, l...\n",
              "2    [pretti, simpl, get, vax, prepar, get, sick, d...\n",
              "3    [like, imagin, complet, stranger, give, child,...\n",
              "4    [unless, eitherwer, aliv, awar, periodorhav, a...\n",
              "Name: tweet, dtype: object"
            ]
          },
          "metadata": {},
          "execution_count": 50
        }
      ]
    },
    {
      "cell_type": "code",
      "metadata": {
        "colab": {
          "base_uri": "https://localhost:8080/"
        },
        "id": "L_CAipFJ4APC",
        "outputId": "f8ba9066-c8f4-48fe-dc50-844f4fef34a3"
      },
      "source": [
        "# Lemmatizing - same as stemming but context is taken into consideration for example - am : be, having - have\n",
        "lem = WordNetLemmatizer()\n",
        "deploy['tweet'] = deploy['tweet'].apply(lambda x: [lem.lemmatize(y) for y in x])\n",
        "\n",
        "deploy['tweet'].head()"
      ],
      "execution_count": null,
      "outputs": [
        {
          "output_type": "execute_result",
          "data": {
            "text/plain": [
              "0    [bitch, cheryl, can, not, die, stab, eye, hurt...\n",
              "1    [ph1, said, sick, tire, hear, ur, lie, stop, l...\n",
              "2    [pretti, simpl, get, vax, prepar, get, sick, d...\n",
              "3    [like, imagin, complet, stranger, give, child,...\n",
              "4    [unless, eitherwer, aliv, awar, periodorhav, a...\n",
              "Name: tweet, dtype: object"
            ]
          },
          "metadata": {},
          "execution_count": 51
        }
      ]
    },
    {
      "cell_type": "code",
      "metadata": {
        "colab": {
          "base_uri": "https://localhost:8080/"
        },
        "id": "wZsMX1tIhRKA",
        "outputId": "ecf05ef9-e06a-44ec-ef51-ee459227f4ff"
      },
      "source": [
        "# Join the words to form a complete string\n",
        "deploy['tweet'] = deploy['tweet'].apply(lambda tweet: ' '.join(tweet))\n",
        "deploy['tweet'].head()"
      ],
      "execution_count": null,
      "outputs": [
        {
          "output_type": "execute_result",
          "data": {
            "text/plain": [
              "0    bitch cheryl can not die stab eye hurt instead...\n",
              "1    ph1 said sick tire hear ur lie stop last time ...\n",
              "2    pretti simpl get vax prepar get sick die healt...\n",
              "3    like imagin complet stranger give child fuck t...\n",
              "4    unless eitherwer aliv awar periodorhav advanc ...\n",
              "Name: tweet, dtype: object"
            ]
          },
          "metadata": {},
          "execution_count": 52
        }
      ]
    },
    {
      "cell_type": "code",
      "metadata": {
        "id": "2qoFpxuL5-j1"
      },
      "source": [
        "# Tokenizing - we assign the words on a tweet to the unique ids we created earlier during training \n",
        "# i.e. the words our model knows\n",
        "d_sequence = tokenizer.texts_to_sequences(deploy['tweet'])"
      ],
      "execution_count": null,
      "outputs": []
    },
    {
      "cell_type": "code",
      "metadata": {
        "id": "nm4BPdZI6ULN"
      },
      "source": [
        "# Padding to make the lengths equal\n",
        "d_sequence_matrix = pad_sequences(d_sequence, maxlen = 280)"
      ],
      "execution_count": null,
      "outputs": []
    },
    {
      "cell_type": "code",
      "metadata": {
        "colab": {
          "base_uri": "https://localhost:8080/"
        },
        "id": "UEpcRveC6oOx",
        "outputId": "386a93a2-6ec5-4814-ff8e-8c124e725464"
      },
      "source": [
        "# Predicting the class of our tweets using the model we trained\n",
        "# .predict returns probabilities of belonging to a class\n",
        "d_pred_prob = model.predict(d_sequence_matrix)\n",
        "d_pred_prob"
      ],
      "execution_count": null,
      "outputs": [
        {
          "output_type": "execute_result",
          "data": {
            "text/plain": [
              "array([[0.07180852, 0.8468083 , 0.59080654],\n",
              "       [0.3334673 , 0.91592956, 0.14395499],\n",
              "       [0.12977779, 0.6715316 , 0.68566245],\n",
              "       ...,\n",
              "       [0.2463178 , 0.2788871 , 0.828205  ],\n",
              "       [0.20070285, 0.7575251 , 0.4969648 ],\n",
              "       [0.06791207, 0.7596811 , 0.7086076 ]], dtype=float32)"
            ]
          },
          "metadata": {},
          "execution_count": 55
        }
      ]
    },
    {
      "cell_type": "code",
      "metadata": {
        "colab": {
          "base_uri": "https://localhost:8080/"
        },
        "id": "pB7BwRu37A_v",
        "outputId": "239fb94b-8d0e-4e7d-f95d-d9631958d48a"
      },
      "source": [
        "# Getting the class by finding out the index of the maximum probability \n",
        "# So index - 0 is hatespeech, 1 is offensive language and 2 is neither\n",
        "d_pred_class = np.argmax(d_pred_prob, axis=1)\n",
        "d_pred_class"
      ],
      "execution_count": null,
      "outputs": [
        {
          "output_type": "execute_result",
          "data": {
            "text/plain": [
              "array([1, 1, 2, 1, 2, 2, 0, 2, 1, 2, 2, 1, 1, 2, 1, 2, 2, 1, 1, 2, 1, 2,\n",
              "       1, 1, 2, 2, 2, 1, 1, 1, 1, 0, 2, 2, 2, 1, 1, 1, 2, 2, 1, 2, 1, 1,\n",
              "       2, 1, 1, 1, 2, 2, 2, 2, 2, 1, 1, 2, 1, 1, 2, 2, 1, 1, 1, 1, 2, 1,\n",
              "       2, 2, 1, 2, 2, 2, 2, 2, 1, 2, 1, 2, 2, 1, 1, 1, 2, 1, 1, 2, 1, 1,\n",
              "       2, 1, 2, 1, 1, 2, 2, 1, 2, 1, 1, 2, 1, 2, 2, 2, 1, 2, 1, 1, 1, 2,\n",
              "       1, 2, 1, 2, 1, 2, 2, 1, 1, 1, 2, 2, 1, 2, 1, 1, 2, 1, 2, 2, 1, 2,\n",
              "       1, 1, 1, 1, 1, 1, 1, 2, 1, 1, 1, 1, 2, 1, 2, 1, 1, 1, 2, 1, 2, 1,\n",
              "       1, 1, 1, 2, 2, 2, 2, 1, 1, 2, 1, 2, 2, 2, 2, 1, 2, 1, 1, 1, 2, 2,\n",
              "       2, 2, 1, 2, 2, 2, 1, 1, 2, 2, 2, 2, 1, 1, 1, 2, 1, 2, 1, 1, 1, 1,\n",
              "       1, 2, 1, 2, 2, 1, 2, 1, 1, 1, 1, 1, 1, 1, 2, 2, 2, 1, 1, 1, 1, 2,\n",
              "       2, 1, 1, 2, 1, 2, 2, 2, 1, 1, 2, 2, 1, 2, 2, 2, 1, 2, 2, 1, 2, 1,\n",
              "       1, 1, 1, 1, 2, 1, 1, 1, 1, 2, 2, 2, 2, 1, 2, 1, 2, 2, 1, 2, 1, 2,\n",
              "       1, 1, 1, 1, 2, 1, 1, 2, 1, 2, 1, 1, 1, 2, 1, 1, 0, 1, 1, 2, 1, 1,\n",
              "       1, 2, 1, 1, 2, 2, 2, 1, 1, 1, 1, 2, 2, 2, 2, 1, 2, 2, 2, 2, 1, 2,\n",
              "       1, 1, 1, 2, 2, 2, 2, 1, 1, 2, 2, 2, 1, 2, 2, 2, 2, 2, 2, 2, 2, 1,\n",
              "       2, 1, 1, 1, 2, 1, 1, 1, 2, 1, 2, 2, 2, 1, 2, 2, 2, 1, 1, 2, 2, 2,\n",
              "       2, 1, 2, 1, 1])"
            ]
          },
          "metadata": {},
          "execution_count": 56
        }
      ]
    },
    {
      "cell_type": "code",
      "metadata": {
        "colab": {
          "base_uri": "https://localhost:8080/",
          "height": 204
        },
        "id": "lmk9HqQi9mPh",
        "outputId": "957729a8-b1aa-402a-e51b-5f7385c9693d"
      },
      "source": [
        "# Creating a new column with the predicted class of our tweet\n",
        "copy_deploy['predicted_class'] = d_pred_class\n",
        "copy_deploy.head()"
      ],
      "execution_count": null,
      "outputs": [
        {
          "output_type": "execute_result",
          "data": {
            "text/html": [
              "<div>\n",
              "<style scoped>\n",
              "    .dataframe tbody tr th:only-of-type {\n",
              "        vertical-align: middle;\n",
              "    }\n",
              "\n",
              "    .dataframe tbody tr th {\n",
              "        vertical-align: top;\n",
              "    }\n",
              "\n",
              "    .dataframe thead th {\n",
              "        text-align: right;\n",
              "    }\n",
              "</style>\n",
              "<table border=\"1\" class=\"dataframe\">\n",
              "  <thead>\n",
              "    <tr style=\"text-align: right;\">\n",
              "      <th></th>\n",
              "      <th>tweet</th>\n",
              "      <th>predicted_class</th>\n",
              "    </tr>\n",
              "  </thead>\n",
              "  <tbody>\n",
              "    <tr>\n",
              "      <th>0</th>\n",
              "      <td>As of being a bitch to (Cheryl) because I cann...</td>\n",
              "      <td>1</td>\n",
              "    </tr>\n",
              "    <tr>\n",
              "      <th>1</th>\n",
              "      <td>when pH-1 said sick and tired off hearing all ...</td>\n",
              "      <td>1</td>\n",
              "    </tr>\n",
              "    <tr>\n",
              "      <th>2</th>\n",
              "      <td>Its pretty simple; get vaxxed or prepare to ge...</td>\n",
              "      <td>2</td>\n",
              "    </tr>\n",
              "    <tr>\n",
              "      <th>3</th>\n",
              "      <td>No but like imagine a complete stranger giving...</td>\n",
              "      <td>1</td>\n",
              "    </tr>\n",
              "    <tr>\n",
              "      <th>4</th>\n",
              "      <td>Unless you eitherWere alive &amp; aware during the...</td>\n",
              "      <td>2</td>\n",
              "    </tr>\n",
              "  </tbody>\n",
              "</table>\n",
              "</div>"
            ],
            "text/plain": [
              "                                               tweet  predicted_class\n",
              "0  As of being a bitch to (Cheryl) because I cann...                1\n",
              "1  when pH-1 said sick and tired off hearing all ...                1\n",
              "2  Its pretty simple; get vaxxed or prepare to ge...                2\n",
              "3  No but like imagine a complete stranger giving...                1\n",
              "4  Unless you eitherWere alive & aware during the...                2"
            ]
          },
          "metadata": {},
          "execution_count": 57
        }
      ]
    },
    {
      "cell_type": "code",
      "metadata": {
        "colab": {
          "base_uri": "https://localhost:8080/",
          "height": 204
        },
        "id": "6g_m5SUr_81Q",
        "outputId": "827380a5-581f-499f-a563-7322b31c376e"
      },
      "source": [
        "# Creating another column with the predicted class but this time with the string rather than the nnumber\n",
        "conditions = [\n",
        "              copy_deploy['predicted_class'] == 0,\n",
        "              copy_deploy['predicted_class'] == 1,\n",
        "              copy_deploy['predicted_class'] == 2\n",
        "]\n",
        "# 0 = hatespeech, 1 = offensive language, 2 = neither\n",
        "values = ['hatespeech', 'offensive language', 'neither']\n",
        "\n",
        "# \n",
        "copy_deploy['predicted_class_str'] = np.select(conditions, values)\n",
        "copy_deploy.head()"
      ],
      "execution_count": null,
      "outputs": [
        {
          "output_type": "execute_result",
          "data": {
            "text/html": [
              "<div>\n",
              "<style scoped>\n",
              "    .dataframe tbody tr th:only-of-type {\n",
              "        vertical-align: middle;\n",
              "    }\n",
              "\n",
              "    .dataframe tbody tr th {\n",
              "        vertical-align: top;\n",
              "    }\n",
              "\n",
              "    .dataframe thead th {\n",
              "        text-align: right;\n",
              "    }\n",
              "</style>\n",
              "<table border=\"1\" class=\"dataframe\">\n",
              "  <thead>\n",
              "    <tr style=\"text-align: right;\">\n",
              "      <th></th>\n",
              "      <th>tweet</th>\n",
              "      <th>predicted_class</th>\n",
              "      <th>predicted_class_str</th>\n",
              "    </tr>\n",
              "  </thead>\n",
              "  <tbody>\n",
              "    <tr>\n",
              "      <th>0</th>\n",
              "      <td>As of being a bitch to (Cheryl) because I cann...</td>\n",
              "      <td>1</td>\n",
              "      <td>offensive language</td>\n",
              "    </tr>\n",
              "    <tr>\n",
              "      <th>1</th>\n",
              "      <td>when pH-1 said sick and tired off hearing all ...</td>\n",
              "      <td>1</td>\n",
              "      <td>offensive language</td>\n",
              "    </tr>\n",
              "    <tr>\n",
              "      <th>2</th>\n",
              "      <td>Its pretty simple; get vaxxed or prepare to ge...</td>\n",
              "      <td>2</td>\n",
              "      <td>neither</td>\n",
              "    </tr>\n",
              "    <tr>\n",
              "      <th>3</th>\n",
              "      <td>No but like imagine a complete stranger giving...</td>\n",
              "      <td>1</td>\n",
              "      <td>offensive language</td>\n",
              "    </tr>\n",
              "    <tr>\n",
              "      <th>4</th>\n",
              "      <td>Unless you eitherWere alive &amp; aware during the...</td>\n",
              "      <td>2</td>\n",
              "      <td>neither</td>\n",
              "    </tr>\n",
              "  </tbody>\n",
              "</table>\n",
              "</div>"
            ],
            "text/plain": [
              "                                               tweet  ...  predicted_class_str\n",
              "0  As of being a bitch to (Cheryl) because I cann...  ...   offensive language\n",
              "1  when pH-1 said sick and tired off hearing all ...  ...   offensive language\n",
              "2  Its pretty simple; get vaxxed or prepare to ge...  ...              neither\n",
              "3  No but like imagine a complete stranger giving...  ...   offensive language\n",
              "4  Unless you eitherWere alive & aware during the...  ...              neither\n",
              "\n",
              "[5 rows x 3 columns]"
            ]
          },
          "metadata": {},
          "execution_count": 58
        }
      ]
    },
    {
      "cell_type": "code",
      "metadata": {
        "colab": {
          "base_uri": "https://localhost:8080/",
          "height": 419
        },
        "id": "0BOimMRUt_4D",
        "outputId": "c4c5dba2-8597-4e3f-9156-138dc5d3da7a"
      },
      "source": [
        "# Looking at some tweets per class\n",
        "copy_deploy[copy_deploy['predicted_class_str'] == 'offensive language']"
      ],
      "execution_count": null,
      "outputs": [
        {
          "output_type": "execute_result",
          "data": {
            "text/html": [
              "<div>\n",
              "<style scoped>\n",
              "    .dataframe tbody tr th:only-of-type {\n",
              "        vertical-align: middle;\n",
              "    }\n",
              "\n",
              "    .dataframe tbody tr th {\n",
              "        vertical-align: top;\n",
              "    }\n",
              "\n",
              "    .dataframe thead th {\n",
              "        text-align: right;\n",
              "    }\n",
              "</style>\n",
              "<table border=\"1\" class=\"dataframe\">\n",
              "  <thead>\n",
              "    <tr style=\"text-align: right;\">\n",
              "      <th></th>\n",
              "      <th>tweet</th>\n",
              "      <th>predicted_class</th>\n",
              "      <th>predicted_class_str</th>\n",
              "    </tr>\n",
              "  </thead>\n",
              "  <tbody>\n",
              "    <tr>\n",
              "      <th>0</th>\n",
              "      <td>As of being a bitch to (Cheryl) because I cann...</td>\n",
              "      <td>1</td>\n",
              "      <td>offensive language</td>\n",
              "    </tr>\n",
              "    <tr>\n",
              "      <th>1</th>\n",
              "      <td>when pH-1 said sick and tired off hearing all ...</td>\n",
              "      <td>1</td>\n",
              "      <td>offensive language</td>\n",
              "    </tr>\n",
              "    <tr>\n",
              "      <th>3</th>\n",
              "      <td>No but like imagine a complete stranger giving...</td>\n",
              "      <td>1</td>\n",
              "      <td>offensive language</td>\n",
              "    </tr>\n",
              "    <tr>\n",
              "      <th>8</th>\n",
              "      <td>Yeah, \"Lets all keep COVID flourishing n mutat...</td>\n",
              "      <td>1</td>\n",
              "      <td>offensive language</td>\n",
              "    </tr>\n",
              "    <tr>\n",
              "      <th>11</th>\n",
              "      <td>This nigga always tell me imma problem  baby I...</td>\n",
              "      <td>1</td>\n",
              "      <td>offensive language</td>\n",
              "    </tr>\n",
              "    <tr>\n",
              "      <th>...</th>\n",
              "      <td>...</td>\n",
              "      <td>...</td>\n",
              "      <td>...</td>\n",
              "    </tr>\n",
              "    <tr>\n",
              "      <th>347</th>\n",
              "      <td>I don't give a flying fuck if I die for erasin...</td>\n",
              "      <td>1</td>\n",
              "      <td>offensive language</td>\n",
              "    </tr>\n",
              "    <tr>\n",
              "      <th>348</th>\n",
              "      <td>Me as the sea lion I ain't goin NOWHERE!! I ne...</td>\n",
              "      <td>1</td>\n",
              "      <td>offensive language</td>\n",
              "    </tr>\n",
              "    <tr>\n",
              "      <th>353</th>\n",
              "      <td>If your an adult and not vaccinated  if you ge...</td>\n",
              "      <td>1</td>\n",
              "      <td>offensive language</td>\n",
              "    </tr>\n",
              "    <tr>\n",
              "      <th>355</th>\n",
              "      <td>Celebrities that you like, that die aren’t pro...</td>\n",
              "      <td>1</td>\n",
              "      <td>offensive language</td>\n",
              "    </tr>\n",
              "    <tr>\n",
              "      <th>356</th>\n",
              "      <td>Bitch you deserve more My Ride Or Die, Canadia...</td>\n",
              "      <td>1</td>\n",
              "      <td>offensive language</td>\n",
              "    </tr>\n",
              "  </tbody>\n",
              "</table>\n",
              "<p>184 rows × 3 columns</p>\n",
              "</div>"
            ],
            "text/plain": [
              "                                                 tweet  ...  predicted_class_str\n",
              "0    As of being a bitch to (Cheryl) because I cann...  ...   offensive language\n",
              "1    when pH-1 said sick and tired off hearing all ...  ...   offensive language\n",
              "3    No but like imagine a complete stranger giving...  ...   offensive language\n",
              "8    Yeah, \"Lets all keep COVID flourishing n mutat...  ...   offensive language\n",
              "11   This nigga always tell me imma problem  baby I...  ...   offensive language\n",
              "..                                                 ...  ...                  ...\n",
              "347  I don't give a flying fuck if I die for erasin...  ...   offensive language\n",
              "348  Me as the sea lion I ain't goin NOWHERE!! I ne...  ...   offensive language\n",
              "353  If your an adult and not vaccinated  if you ge...  ...   offensive language\n",
              "355  Celebrities that you like, that die aren’t pro...  ...   offensive language\n",
              "356  Bitch you deserve more My Ride Or Die, Canadia...  ...   offensive language\n",
              "\n",
              "[184 rows x 3 columns]"
            ]
          },
          "metadata": {},
          "execution_count": 59
        }
      ]
    },
    {
      "cell_type": "code",
      "metadata": {
        "colab": {
          "base_uri": "https://localhost:8080/"
        },
        "id": "IzSMMOXCBGrs",
        "outputId": "8efed734-6935-412f-e1ef-0b9e3896a874"
      },
      "source": [
        "# Printing a tweet and its class\n",
        "print(copy_deploy.iloc[172,0])\n",
        "print(copy_deploy.iloc[172,-1])"
      ],
      "execution_count": null,
      "outputs": [
        {
          "output_type": "stream",
          "name": "stdout",
          "text": [
            "1 thing for sure its not 1 bitch walking the face of this earth that can say I ever reached out to reconcile or squash a bitch ass thing yall kno I love a grudge like you could go die and I wont give 2 fucks dont ever play with me\n",
            "offensive language\n"
          ]
        }
      ]
    },
    {
      "cell_type": "code",
      "metadata": {
        "colab": {
          "base_uri": "https://localhost:8080/",
          "height": 321
        },
        "id": "uihLTkSxCgXw",
        "outputId": "ab46ee82-7c60-433f-cb68-434a8533d034"
      },
      "source": [
        "# Pie chart showing tweets by class\n",
        "plt.figure(figsize=(8,5))\n",
        "plt.pie(x=copy_deploy['predicted_class_str'].value_counts().values, autopct='%1.1f%%', pctdistance=1.2)\n",
        "plt.legend(copy_deploy['predicted_class_str'].value_counts().index, bbox_to_anchor=(1.05, 1.0), loc='upper left')\n",
        "plt.title('Tweets by predicted class', fontsize = 16)\n",
        "plt.savefig('Tweets by predicted class.png')\n",
        "plt.show()"
      ],
      "execution_count": null,
      "outputs": [
        {
          "output_type": "display_data",
          "data": {
            "image/png": "[encoded data removed]",
            "text/plain": [
              "<Figure size 576x360 with 1 Axes>"
            ]
          },
          "metadata": {}
        }
      ]
    },
    {
      "cell_type": "code",
      "metadata": {
        "id": "dr-951i6-BxB",
        "colab": {
          "base_uri": "https://localhost:8080/"
        },
        "outputId": "1c669d25-7016-4268-954a-82e508ad67f7"
      },
      "source": [
        "from nltk.corpus import stopwords\n",
        "nltk.download('stopwords')\n",
        "stopwords = set(stopwords.words('english'))"
      ],
      "execution_count": null,
      "outputs": [
        {
          "output_type": "stream",
          "name": "stdout",
          "text": [
            "[nltk_data] Downloading package stopwords to /root/nltk_data...\n",
            "[nltk_data]   Package stopwords is already up-to-date!\n"
          ]
        }
      ]
    },
    {
      "cell_type": "code",
      "metadata": {
        "id": "8VZ_kMnP4A7N"
      },
      "source": [
        "def classify():\n",
        "  tweet = input(\"What's the tweet? \")\n",
        "  # Removing mentions, hashtags, urls, lots of whitespace, punctuations from our tweets and lowercasing them\n",
        "  tweet = custom_standardization(tweet)\n",
        "\n",
        "  # Removing stopwords\n",
        "  tweet = remove_stopwords(tweet)\n",
        "\n",
        "  # Tokenizing - dividing strings into lists of substrings\n",
        "  # tweet = nltk.word_tokenize(tweet)\n",
        "\n",
        "  # Stemming\n",
        "  tweet = stemmer.stem(tweet)\n",
        "\n",
        "  # Lemmatizing\n",
        "  tweet = lem.lemmatize(tweet)\n",
        "\n",
        "  # \n",
        "  # tweet = ' '.join(tweet)\n",
        "  \n",
        "  # \n",
        "  sequence = tokenizer.texts_to_sequences([tweet])\n",
        "  \n",
        "  # Padding\n",
        "  sequence_matrix = pad_sequences(sequence, maxlen = 280)\n",
        "\n",
        "  # Predicting\n",
        "  pred_prob = model.predict(sequence_matrix)\n",
        "\n",
        "  # Finding the class\n",
        "  pred_class = np.argmax(pred_prob)\n",
        "\n",
        "  if pred_class == 0:\n",
        "    tweet_class = 'hate speech'\n",
        "\n",
        "  elif pred_class == 1:\n",
        "    tweet_class = 'offensive'\n",
        "  \n",
        "  elif pred_class == 2:\n",
        "    tweet_class = 'neither'\n",
        "  \n",
        "  return print('This tweet is ', tweet_class)"
      ],
      "execution_count": null,
      "outputs": []
    },
    {
      "cell_type": "code",
      "metadata": {
        "colab": {
          "base_uri": "https://localhost:8080/"
        },
        "id": "D6a_7-459VCO",
        "outputId": "abec7a0f-af9e-4d0f-c0b8-eb1d1f44ba67"
      },
      "source": [
        "classify()"
      ],
      "execution_count": null,
      "outputs": [
        {
          "output_type": "stream",
          "name": "stdout",
          "text": [
            "What's the tweet? Samwel Should mobilize people to strike and avoid \n",
            "This tweet is  offensive\n"
          ]
        }
      ]
    }
  ]
}